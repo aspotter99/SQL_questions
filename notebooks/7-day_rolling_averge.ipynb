{
 "cells": [
  {
   "cell_type": "code",
   "execution_count": null,
   "metadata": {},
   "outputs": [],
   "source": [
    "#import pandas and sqlite\n",
    "import pandas as pd\n",
    "import sqlite3 as sl"
   ]
  },
  {
   "cell_type": "code",
   "execution_count": null,
   "metadata": {},
   "outputs": [],
   "source": [
    "#connecct to database object\n",
    "conn = sl.connect('NYT_covid.db')\n",
    "c = conn.cursor()"
   ]
  },
  {
   "cell_type": "code",
   "execution_count": null,
   "metadata": {},
   "outputs": [],
   "source": [
    "#update counties table with most recent data\n",
    "counties = pd.read_csv('https://raw.githubusercontent.com/nytimes/covid-19-data/master/us-counties.csv', index_col=0, encoding='latin-1')\n",
    "\n",
    "c.execute('DROP TABLE IF EXISTS counties')\n",
    "c.execute('CREATE TABLE counties (date datetime, county str, state str, fips str, cases int, deaths int, confirmed_cases int, confirmed_deaths int, probable_cases int, probable_deaths int)')\n",
    "conn.commit()\n",
    "\n",
    "counties.to_sql('counties',conn, if_exists='replace')"
   ]
  },
  {
   "cell_type": "code",
   "execution_count": null,
   "metadata": {},
   "outputs": [],
   "source": [
    "#confirm tables present\n",
    "res = conn.execute(\"SELECT name FROM sqlite_master WHERE type='table';\")\n",
    "for name in res:\n",
    "    print (name[0])"
   ]
  },
  {
   "cell_type": "code",
   "execution_count": null,
   "metadata": {},
   "outputs": [],
   "source": [
    "df = pd.read_sql('''select * from regions''',conn)\n",
    "df.columns"
   ]
  },
  {
   "cell_type": "code",
   "execution_count": null,
   "metadata": {},
   "outputs": [],
   "source": [
    "df = pd.read_sql('''select * from counties''',conn)\n",
    "df.columns"
   ]
  },
  {
   "cell_type": "code",
   "execution_count": null,
   "metadata": {},
   "outputs": [],
   "source": [
    "df = pd.read_sql('''WITH cte as (SELECT date, \n",
    "                                  r.bureau_economic_analysys as 'bea_region', c.state, c.county, \n",
    "                                  cases - LAG (cases,1) OVER (PARTITION BY fips ORDER BY date) as 'new_cases',\n",
    "                                  cases as 'cumulative_cases'\n",
    "                    FROM     counties c\n",
    "                    JOIN     regions r on c.state = r.state \n",
    "                             AND r.bureau_economic_analysys = 'Great Lakes'\n",
    "                    ORDER BY c.state, county)\n",
    "                    \n",
    "SELECT date,\n",
    "       bea_region, \n",
    "       state, \n",
    "       county, \n",
    "       new_cases, \n",
    "       cumulative_cases,\n",
    "       AVG(new_cases) OVER (PARTITION BY state, county ORDER BY date ASC rows 6 PRECEDING) as '7-day_avg_new'\n",
    "FROM cte\n",
    "ORDER BY state, county, date''',conn)\n",
    "df"
   ]
  }
 ],
 "metadata": {
  "kernelspec": {
   "display_name": "amanda",
   "language": "python",
   "name": "amanda"
  },
  "language_info": {
   "codemirror_mode": {
    "name": "ipython",
    "version": 3
   },
   "file_extension": ".py",
   "mimetype": "text/x-python",
   "name": "python",
   "nbconvert_exporter": "python",
   "pygments_lexer": "ipython3",
   "version": "3.8.2"
  }
 },
 "nbformat": 4,
 "nbformat_minor": 4
}
